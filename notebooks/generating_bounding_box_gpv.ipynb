{
 "cells": [
  {
   "cell_type": "code",
   "execution_count": 1,
   "id": "24fb8c37-d28c-4363-8440-110489e32fde",
   "metadata": {},
   "outputs": [],
   "source": [
    "from langchain_google_genai import ChatGoogleGenerativeAI\n",
    "from langchain_core.messages import HumanMessage, SystemMessage\n",
    "from langchain_core.prompts.image import ImagePromptTemplate\n",
    "from langchain.prompts import PromptTemplate\n",
    "from langchain_core.prompt_values import ImageURL\n",
    "from langchain_core.pydantic_v1 import BaseModel, Field, validator\n",
    "from langchain.output_parsers import PydanticOutputParser\n",
    "\n",
    "GOOGLE_API_KEY = \"\"\n",
    "\n",
    "urls = ['https://img.maisonkorea.com/2020/03/msk_5e65a1179ab47.jpg',\n",
    "       'https://upload.wikimedia.org/wikipedia/commons/thumb/c/cf/Wohnzimmer_2007.jpg/1200px-Wohnzimmer_2007.jpg',\n",
    "       'https://static.hyundailivart.co.kr/upload_mall/board/ME00000044/B200042482/tplt/0000215270_20220224105746834.jpg']"
   ]
  },
  {
   "cell_type": "code",
   "execution_count": 2,
   "id": "612e31e9-c1fc-421c-a6c5-b4b797bc6444",
   "metadata": {},
   "outputs": [],
   "source": [
    "class TagsForBoundingBoxes(BaseModel):\n",
    "    \n",
    "    detected_furnitures: list[str] = Field(..., description = \"List of detected Furnitures\");\n",
    "    \n",
    "    upper_left_axis_x: list[tuple([float, float])] = Field(..., description = \"Upper-left axis of bounding boxes of detected furniture\");\n",
    "    upper_left_axis_y: list[tuple([float, float])] = Field(..., description = \"Upper-left axis of bounding boxes of detected furniture\");\n",
    "\n",
    "    bottom_right_axis_x: list[tuple([float, float])] = Field(..., description = \"Bottom-right axis of bounding boxes of detected furniture\");\n",
    "    bottom_right_axis_y: list[tuple([float, float])] = Field(..., description = \"Bottom-right axis of bounding boxes of detected furniture\");\n",
    "\n",
    "class BoundingBoxGenerator:\n",
    "\n",
    "    def __init__(self):\n",
    "        \n",
    "        self.GOOGLE_API_KEY = GOOGLE_API_KEY\n",
    "        self.llm = ChatGoogleGenerativeAI(model = 'gemini-pro', google_api_key = self.GOOGLE_API_KEY,\n",
    "                                         temperature = 0)\n",
    "        self.lmm = ChatGoogleGenerativeAI(model = 'gemini-pro-vision', google_api_key = self.GOOGLE_API_KEY,\n",
    "                                         temperature = 0)\n",
    "\n",
    "        self.parser = PydanticOutputParser(pydantic_object = TagsForBoundingBoxes)\n",
    "        self.prompt = PromptTemplate(\n",
    "            template = \"\"\"Allocated raw query to formatted instruction \\n {format_instructions}\\n{query}\n",
    "            Note that the sequence formed like this : something | x, y | z, w\n",
    "            \"\"\",\n",
    "            input_variables = [\"query\"],\n",
    "            partial_variables = {\"format_instructions\" : self.parser.get_format_instructions()}\n",
    "        )\n",
    "\n",
    "    def query_img(self, url:str = None):\n",
    "\n",
    "        self.message = HumanMessage(\n",
    "            content = [\n",
    "                {'type': 'text',\n",
    "                 'text': \"\"\"You detect objects in the given image and provide their bounding box coordinates, but you must follow these rules:\n",
    "\n",
    "                1. Do not suggest all objects; only include those that could be classified to **furniture** or **home appliance** items. For example, you should exclude windows or animals from the objects you present.\n",
    "                2. For the coordinates, you should provide them in the form of the top-left and bottom-right points of the bounding box.\n",
    "                3. If the objects do not fall under the categories of furniture or decorative items, you do not need to present anything.\n",
    "                4. The coordinates must be presented as relative values to original width and height, ranging from 0 to 1. Do not use absolute values like 210, 850.\n",
    "                5. The output must be presented in the format specified, listing the object, top-left coordinate, and bottom-right coordinate repeatedly.\n",
    "                 \"\"\"}\n",
    "                ,\n",
    "                {'type' : 'image_url',\n",
    "                 'image_url' : url}\n",
    "            ]           \n",
    "        )\n",
    "        \n",
    "        self.raw_detected = self.lmm.invoke([self.message]).content\n",
    "\n",
    "        chain = self.prompt | self.llm | self.parser\n",
    "        raw_axis = chain.invoke({\"query\" : self.raw_detected})\n",
    "        raw_axis_upper_left = list(zip(raw_axis.upper_left_axis_x, raw_axis.upper_left_axis_y))\n",
    "        raw_axis_bottom_right = list(zip(raw_axis.bottom_right_axis_x, raw_axis.bottom_right_axis_y))\n",
    "        return dict(zip(raw_axis.detected_furnitures, raw_axis_upper_left)),\\\n",
    "        dict(zip(raw_axis.detected_furnitures, raw_axis_bottom_right))"
   ]
  },
  {
   "cell_type": "code",
   "execution_count": null,
   "id": "7bcacb65-fd20-41a1-baff-54ca4a314dad",
   "metadata": {},
   "outputs": [],
   "source": [
    "bbg = BoundingBoxGenerator()\n",
    "output_bbgs = []\n",
    "for url in urls:\n",
    "    output_bbg = bbg.query_img(url = url)\n",
    "    output_bbgs.append(output_bbg)"
   ]
  },
  {
   "cell_type": "code",
   "execution_count": null,
   "id": "cc9e75d2-eec8-4c65-9ff7-1899318087de",
   "metadata": {},
   "outputs": [],
   "source": [
    "print(output_bbg[0], output_bbg[1])"
   ]
  },
  {
   "cell_type": "code",
   "execution_count": null,
   "id": "ffc071b3-5f3e-42eb-af90-b843a4892117",
   "metadata": {},
   "outputs": [],
   "source": [
    "from PIL import Image, ImageDraw, ImageFont\n",
    "import requests\n",
    "from io import BytesIO\n",
    "\n",
    "def draw_rectangles(url:str, upper_left_dict:dict, bottom_right_dict:dict):\n",
    "    \n",
    "    res = requests.get(url)\n",
    "    img = Image.open(BytesIO(res.content))\n",
    "    draw = ImageDraw.Draw(img)\n",
    "\n",
    "    width = img.width; height = img.height\n",
    "    font = ImageFont.load_default()    \n",
    "\n",
    "    for item in upper_left_dict.keys():\n",
    "\n",
    "        outline_color = 'red'; text_color = 'blue'\n",
    "        \n",
    "        upper_left_axis = (int(upper_left_dict[item][0] * width), int(upper_left_dict[item][1] * height))\n",
    "        bottom_right_axis = (int(bottom_right_dict[item][0] * width), int(bottom_right_dict[item][1] * height))\n",
    "        draw.rectangle([upper_left_axis, bottom_right_axis], outline = outline_color, width = 2)\n",
    "        draw.text(upper_left_axis, item, fill = text_color, font = font)\n",
    "\n",
    "    return img"
   ]
  },
  {
   "cell_type": "code",
   "execution_count": null,
   "id": "ddd56ac5-189d-4747-a880-b85662816863",
   "metadata": {},
   "outputs": [],
   "source": [
    "for url, output_bbg in zip(urls, output_bbgs):\n",
    "    img = draw_rectangles(url = url, upper_left_dict = output_bbg[0], bottom_right_dict = output_bbg[1])\n",
    "    img.save('gpv_'+url.split('/')[-1])"
   ]
  },
  {
   "cell_type": "code",
   "execution_count": null,
   "id": "55b6a150-a933-49e8-8bfd-73fcda8db963",
   "metadata": {},
   "outputs": [],
   "source": []
  }
 ],
 "metadata": {
  "kernelspec": {
   "display_name": "Python 3 (ipykernel)",
   "language": "python",
   "name": "python3"
  },
  "language_info": {
   "codemirror_mode": {
    "name": "ipython",
    "version": 3
   },
   "file_extension": ".py",
   "mimetype": "text/x-python",
   "name": "python",
   "nbconvert_exporter": "python",
   "pygments_lexer": "ipython3",
   "version": "3.12.3"
  }
 },
 "nbformat": 4,
 "nbformat_minor": 5
}
