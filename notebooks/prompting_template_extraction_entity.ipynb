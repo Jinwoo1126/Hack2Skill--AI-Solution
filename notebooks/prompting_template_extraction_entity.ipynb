{
 "cells": [
  {
   "cell_type": "code",
   "execution_count": 9,
   "metadata": {
    "id": "ENZ9UpglEIjh"
   },
   "outputs": [
    {
     "ename": "SyntaxError",
     "evalue": "unterminated string literal (detected at line 9) (1209622849.py, line 9)",
     "output_type": "error",
     "traceback": [
      "\u001b[1;36m  Cell \u001b[1;32mIn[9], line 9\u001b[1;36m\u001b[0m\n\u001b[1;33m    GOOGLE_API_KEY = \"\u001b[0m\n\u001b[1;37m                     ^\u001b[0m\n\u001b[1;31mSyntaxError\u001b[0m\u001b[1;31m:\u001b[0m unterminated string literal (detected at line 9)\n"
     ]
    }
   ],
   "source": [
    "from langchain_google_genai import ChatGoogleGenerativeAI\n",
    "from langchain_core.messages import HumanMessage\n",
    "from langchain_core.prompts.image import ImagePromptTemplate\n",
    "from langchain.prompts import PromptTemplate\n",
    "from langchain_core.prompt_values import ImageURL\n",
    "from langchain_core.pydantic_v1 import BaseModel, Field, validator\n",
    "from langchain.output_parsers import PydanticOutputParser\n",
    "\n",
    "GOOGLE_API_KEY = \"\""
   ]
  },
  {
   "cell_type": "code",
   "execution_count": 2,
   "metadata": {
    "id": "GxCivcn17hqi"
   },
   "outputs": [],
   "source": [
    "class TagsForAspects(BaseModel):\n",
    "    \n",
    "    room_sentiment: list[str] = Field(..., description = \"The sentiments of the room\");\n",
    "    \n",
    "    room_color: list[str] = Field(..., description = \"The overall atmospheres that depicted to a color\");\n",
    "    \n",
    "    room_size: list[int] = Field(..., description = \"room size expressed in square meters\", enum = list(range(1, 100)));\n",
    "    \n",
    "    housing_type: list[str] = Field(..., description = \"The type of housing\",\n",
    "                              enum = ['studio', 'apartment', 'house']);\n",
    "    \n",
    "    room_type: list[str] = Field(..., description = \"The type of room\",\n",
    "                           enum = ['living room', 'kitchen', 'home office', 'bedroom', 'bathroom', 'dining room', 'office', 'garage', 'basement', 'attic', 'laundry room', 'pantry', 'family room', 'foyer']);\n",
    "\n",
    "\n",
    "class SentenceToAspect:\n",
    "\n",
    "    def __init__(self):\n",
    "\n",
    "        self.GOOGLE_API_KEY = GOOGLE_API_KEY\n",
    "        self.llm = ChatGoogleGenerativeAI(model = 'gemini-pro', google_api_key = self.GOOGLE_API_KEY,\n",
    "                                         temperature = 0)\n",
    "\n",
    "        self.parser = PydanticOutputParser(pydantic_object = TagsForAspects)\n",
    "        self.prompt = PromptTemplate(\n",
    "            template = \"\"\"Answer the user query. \\n {format_instructions}\\n{query}\\n\n",
    "            \n",
    "            1. You must extract the formatted aspect from each word or keyword within query sentence, rather than the sentence as a whole.\n",
    "            2. Please concentrate metric information if it is considerated in the original human message.\n",
    "            3. If you don't think that there is no appropriate words for those aspects, you must return the word 'none' to the aspect\n",
    "            \"\"\",\n",
    "            input_variables = [\"query\"],\n",
    "            partial_variables = {\"format_instructions\" : self.parser.get_format_instructions()}\n",
    "        )\n",
    "\n",
    "    def query(self, query_sentence: str):\n",
    "\n",
    "        chain = self.prompt | self.llm | self.parser\n",
    "        return chain.invoke({\"query\" : query_sentence})\n",
    "\n",
    "\n",
    "class ImageToAspect(SentenceToAspect):\n",
    "\n",
    "    def __init__(self):\n",
    "        SentenceToAspect.__init__(self)\n",
    "        \n",
    "        self.GOOGLE_API_KEY = GOOGLE_API_KEY\n",
    "        self.lmm = ChatGoogleGenerativeAI(model = 'gemini-pro-vision', google_api_key = self.GOOGLE_API_KEY, temporary = 0, top_p = 0.5)\n",
    "\n",
    "    def query_room_img(self, url:str = None):\n",
    "\n",
    "        self.message = HumanMessage(\n",
    "            content = [\n",
    "                {'type': 'text',\n",
    "                 'text': \"\"\"Here is how you must depict an image of a room in English, making sure to include the following elements:\n",
    "                 \n",
    "                 1. Include at least one word that conveys the sentiment of the room.\n",
    "                 If there are multiple sentiments that describe the image, feel free to include those all.\n",
    "                 **You must suggest at least two sentiment terms, at most five.**\n",
    "                 2. Describe the overall color scheme of the room.\n",
    "                 **You must suggest at least two color terms, at most five.**\n",
    "                 3. The more depiction of sentiment is suggested, the better.\n",
    "                 4. Estimate how much size of the room is fit to the item **numerically**.\n",
    "                 **The unit must be in integer square meters**.\n",
    "                 5. Determine whether the room belongs to an apartment, studio, or house, and specify which one.\n",
    "                 6. Guess which part of the house the room might be, such as the living room, bedroom, etc.\"\"\"}\n",
    "                ,\n",
    "                {'type' : 'image_url',\n",
    "                 'image_url' : url}\n",
    "            ]           \n",
    "        )\n",
    "        \n",
    "        self.return_sentence_img = self.lmm.invoke([self.message])\n",
    "        return self.query(query_sentence = self.return_sentence_img.content)\n",
    "\n",
    "    def query_item_img(self, url:str = None):\n",
    "\n",
    "        self.message = HumanMessage(\n",
    "            content = [\n",
    "                {'type': 'text',\n",
    "                 'text': \"\"\"Here is how you must depict an image of an item in English. **you must think a room and housing related to the item**.\n",
    "                 making sure to include the following elements:\n",
    "                 \n",
    "                 1. You must use sentiment words that conveys the sentiment of the room.\n",
    "                 **You must suggest at least two sentiment terms, at most five.**\n",
    "                 2. Recommend **background colors** that match the color of the item.\n",
    "                 **You must not depict the color of the item itself!**\n",
    "                 **You must suggest at least two color terms, at most five.**\n",
    "                 3. The more depiction of color and sentiment is suggested, the better.\n",
    "                 4. Estimate how much size of the room is fit to the item **numerically**.\n",
    "                 **The unit must be in integer square meters**.\n",
    "                 5. Determine whether the item matches a room belongs to an apartment, studio, or house, and specify which one.\n",
    "                 6. Guess which part of the house the room might be, such as the living room, bedroom, etc.\"\"\"}\n",
    "                ,\n",
    "                {'type' : 'image_url',\n",
    "                 'image_url' : url}\n",
    "            ]           \n",
    "        )\n",
    "        \n",
    "        self.return_sentence_img = self.lmm.invoke([self.message])\n",
    "        return self.query(query_sentence = self.return_sentence_img.content)\n"
   ]
  },
  {
   "cell_type": "code",
   "execution_count": 3,
   "metadata": {
    "id": "7N--m7deM8Cz",
    "scrolled": true
   },
   "outputs": [],
   "source": [
    "ita = ImageToAspect()\n",
    "output_ita_room = ita.query_room_img(url = 'https://image.ohou.se/i/bucketplace-v2-development/uploads/cards/snapshots/169087905318351049.jpeg')\n"
   ]
  },
  {
   "cell_type": "code",
   "execution_count": 4,
   "metadata": {},
   "outputs": [
    {
     "data": {
      "text/plain": [
       "TagsForAspects(room_sentiment=['bright', 'airy', 'peaceful', 'tranquil'], room_color=['warm', 'neutral', 'white'], room_size=[20], housing_type=['apartment'], room_type=['living room'])"
      ]
     },
     "execution_count": 4,
     "metadata": {},
     "output_type": "execute_result"
    }
   ],
   "source": [
    "output_ita_room"
   ]
  },
  {
   "cell_type": "code",
   "execution_count": 5,
   "metadata": {},
   "outputs": [],
   "source": [
    "output_ita_item = ita.query_item_img(url = 'https://yekun.com/data/goodsImages/ADD_GOODS1_159832306020211231164545.jpg')"
   ]
  },
  {
   "cell_type": "code",
   "execution_count": 6,
   "metadata": {},
   "outputs": [
    {
     "data": {
      "text/plain": [
       "TagsForAspects(room_sentiment=['warm', 'inviting', 'comfortable', 'stylish', 'versatile'], room_color=['white', 'light gray', 'beige', 'pale yellow', 'light blue'], room_size=[12], housing_type=[], room_type=['living room', 'dining room', 'bedroom', 'home office'])"
      ]
     },
     "execution_count": 6,
     "metadata": {},
     "output_type": "execute_result"
    }
   ],
   "source": [
    "output_ita_item"
   ]
  },
  {
   "cell_type": "code",
   "execution_count": 7,
   "metadata": {},
   "outputs": [],
   "source": [
    "output_ita_item = ita.query_item_img(url = 'https://i.namu.wiki/i/u8Qv8l2kwXCT7K_M5Vt2c_i_-O6UwVK470gwec4GcarM2KKRz5vV6SPylgG82Y2V6hvbLIaSnSGk5SF6Q7P3IQ.webp')"
   ]
  },
  {
   "cell_type": "code",
   "execution_count": 8,
   "metadata": {},
   "outputs": [
    {
     "data": {
      "text/plain": [
       "TagsForAspects(room_sentiment=['Modern', 'Elegant', 'Simple'], room_color=['White', 'Gray', 'Beige'], room_size=[20], housing_type=[], room_type=['Living room', 'Office'])"
      ]
     },
     "execution_count": 8,
     "metadata": {},
     "output_type": "execute_result"
    }
   ],
   "source": [
    "output_ita_item"
   ]
  },
  {
   "cell_type": "code",
   "execution_count": null,
   "metadata": {},
   "outputs": [],
   "source": []
  }
 ],
 "metadata": {
  "colab": {
   "provenance": []
  },
  "kernelspec": {
   "display_name": "Python 3 (ipykernel)",
   "language": "python",
   "name": "python3"
  },
  "language_info": {
   "codemirror_mode": {
    "name": "ipython",
    "version": 3
   },
   "file_extension": ".py",
   "mimetype": "text/x-python",
   "name": "python",
   "nbconvert_exporter": "python",
   "pygments_lexer": "ipython3",
   "version": "3.12.3"
  }
 },
 "nbformat": 4,
 "nbformat_minor": 4
}
