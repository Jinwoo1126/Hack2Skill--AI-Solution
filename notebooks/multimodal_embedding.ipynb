{
 "cells": [
  {
   "cell_type": "code",
   "execution_count": 23,
   "id": "3fbffcee-e0d4-46d3-9a3f-54f77c21cd85",
   "metadata": {},
   "outputs": [],
   "source": [
    "from tqdm import tqdm\n",
    "import typing, json\n",
    "from absl import app\n",
    "from google.cloud import aiplatform\n",
    "import base64\n",
    "from google.cloud import storage\n",
    "from google.protobuf import struct_pb2\n",
    "from google.oauth2 import service_account"
   ]
  },
  {
   "cell_type": "code",
   "execution_count": 2,
   "id": "a8ccb88b-b781-4c56-a777-9090f40d5077",
   "metadata": {},
   "outputs": [],
   "source": [
    "class EmbeddingResponse(typing.NamedTuple):\n",
    "  text_embedding: typing.Sequence[float]\n",
    "  image_embedding: typing.Sequence[float]"
   ]
  },
  {
   "cell_type": "code",
   "execution_count": 201,
   "id": "f2bccd3d-025e-4243-8e9b-9cb46c223fe4",
   "metadata": {},
   "outputs": [],
   "source": [
    "class EmbeddingPredictionClient:\n",
    "    \"\"\"Wrapper around Prediction Service Client.\"\"\"\n",
    "    def __init__(self, project : str, location : str = \"asia-northeast3\"):\n",
    "        api_regional_endpoint = f\"{location}-aiplatform.googleapis.com\"\n",
    "        client_options = {\"api_endpoint\": api_regional_endpoint}\n",
    "        cred = service_account.Credentials.from_service_account_file(\n",
    "            './ai-solution-genai-hack2skill-ee1fa6f57032.json'\n",
    "        )\n",
    "        \n",
    "        # Initialize client that will be used to create and send requests.\n",
    "        # This client only needs to be created once, and can be reused for multiple requests.\n",
    "        self.client = aiplatform.gapic.PredictionServiceClient(credentials=cred, client_options=client_options)\n",
    "        self.location = location\n",
    "        self.project = project\n",
    "\n",
    "\n",
    "    def get_embedding(self, text : str = None, image_bytes : bytes = None):\n",
    "        if not text and not image_bytes:\n",
    "            raise ValueError('At least one of text or image_bytes must be specified.')\n",
    "\n",
    "        instance = struct_pb2.Struct()\n",
    "        if text:\n",
    "            instance.fields['text'].string_value = text\n",
    "\n",
    "        if image_bytes:\n",
    "            encoded_content = base64.b64encode(image_bytes).decode(\"utf-8\")\n",
    "            image_struct = instance.fields['image'].struct_value\n",
    "            image_struct.fields['bytesBase64Encoded'].string_value = encoded_content\n",
    "\n",
    "        instances = [instance]\n",
    "        endpoint = (f\"projects/{self.project}/locations/{self.location}\"\n",
    "        \"/publishers/google/models/multimodalembedding@001\")\n",
    "        response = self.client.predict(endpoint=endpoint, instances=instances)\n",
    "\n",
    "        text_embedding = None\n",
    "        if text:    \n",
    "            text_emb_value = response.predictions[0]['textEmbedding']\n",
    "            text_embedding = [v for v in text_emb_value]\n",
    "\n",
    "        image_embedding = None\n",
    "        if image_bytes:    \n",
    "            image_emb_value = response.predictions[0]['imageEmbedding']\n",
    "            image_embedding = [v for v in image_emb_value]\n",
    "\n",
    "        return EmbeddingResponse(\n",
    "            text_embedding=text_embedding,\n",
    "            image_embedding=image_embedding\n",
    "        )\n",
    "\n",
    "\n",
    "def limit_dict_values(data, limit=500):\n",
    "  new_dict = {}\n",
    "  for key, value in data.items():\n",
    "    if isinstance(value, str):\n",
    "      # 문자열인 경우 길이 제한\n",
    "      new_dict[key] = value[:limit]\n",
    "    else:\n",
    "      # 문자열이 아닌 경우 그대로 유지\n",
    "      new_dict[key] = value\n",
    "  return new_dict\n",
    "\n",
    "\n",
    "def dict2text(dict_data):\n",
    "    text = \"\"\n",
    "    for key, value in dict_data.items():\n",
    "        text += f\"{key} is {value}. \"\n",
    "    return text.rstrip(\".\")\n",
    "\n",
    "\n",
    "def rename_keys(d):\n",
    "  new_dict = {}\n",
    "  for key, value in d.items():\n",
    "    new_key = key.split(\"_\")[0]\n",
    "    new_dict[new_key] = value\n",
    "  return new_dict"
   ]
  },
  {
   "cell_type": "code",
   "execution_count": 216,
   "id": "a54550e5-daa6-47ba-b510-2dc7d65fd035",
   "metadata": {},
   "outputs": [],
   "source": [
    "project = \"ai-solution-genai-hack2skill\"\n",
    "location = \"asia-northeast3\"\n",
    "bucket_name = \"hack2skill_dataset\"\n",
    "prefix = \"ikea/images\"\n",
    "client = EmbeddingPredictionClient(project = project, location = location)\n",
    "cred = service_account.Credentials.from_service_account_file('./ai-solution-genai-hack2skill-ee1fa6f57032.json')\n",
    "storage_client = storage.Client(credentials=cred)\n",
    "bucket = storage_client.get_bucket(bucket_name) \n",
    "files = bucket.list_blobs(prefix=prefix) \n",
    "\n",
    "blob_name = \"ikea/ikea_results.json\"\n",
    "blob = storage_client.get_bucket(bucket_name).blob(blob_name)\n",
    "json_string = blob.download_as_string().decode('utf-8')\n",
    "ikea_meta = json.loads(json_string)\n",
    "ikea_meta = rename_keys(ikea_meta)"
   ]
  },
  {
   "cell_type": "code",
   "execution_count": null,
   "id": "db87b816-8c18-4fc2-982a-d061ad651c57",
   "metadata": {
    "scrolled": true
   },
   "outputs": [
    {
     "name": "stderr",
     "output_type": "stream",
     "text": [
      "131it [01:24,  1.55it/s]"
     ]
    }
   ],
   "source": [
    "for idx, file in tqdm(enumerate(files)):\n",
    "    \n",
    "    if \"image\" in file.content_type:\n",
    "        # item_key = file.name.split(\"/\")[-1].split(\".jpg\")[0]\n",
    "        item_key = file.name.split(\"/\")[-1].split(\"_\")[0]\n",
    "        text_file_contents = ikea_meta[item_key]\n",
    "        text_file_contents.pop(\"link\")\n",
    "        text_file_contents = limit_dict_values(text_file_contents)\n",
    "        text_file_contents = dict2text(text_file_contents)\n",
    "    \n",
    "        with file.open('rb') as image_file:\n",
    "            image_file_contents =image_file.read()\n",
    "        response = client.get_embedding(\n",
    "            text = text_file_contents,\n",
    "            image_bytes=image_file_contents,\n",
    "        )\n",
    "        encoded_name = file.name.encode(encoding = 'UTF-8', errors = 'strict')\n",
    "        # output_dict = dict(id=str(encoded_name), embedding=response)\n",
    "\n",
    "        with open(\"ikea_indexData.json\", \"a\") as f:\n",
    "            f.write('{\"id\":\"' + str(encoded_name) + '\",')\n",
    "            f.write('\"embedding\":[[' + \",\".join(str(x) for x in response[0]) + \"]\"\\\n",
    "                    + \",[\" + \",\".join(str(x) for x in response[1]) + \"]]\" + \"}\")\n",
    "            f.write(\"\\n\")"
   ]
  },
  {
   "cell_type": "code",
   "execution_count": null,
   "id": "52b96a8c-ff8e-4291-904b-05108d4490ed",
   "metadata": {},
   "outputs": [],
   "source": []
  },
  {
   "cell_type": "code",
   "execution_count": null,
   "id": "0d8e4400-a70a-4871-a9c1-6c87cc12aa1c",
   "metadata": {},
   "outputs": [],
   "source": []
  }
 ],
 "metadata": {
  "kernelspec": {
   "display_name": "Python 3 (ipykernel)",
   "language": "python",
   "name": "python3"
  },
  "language_info": {
   "codemirror_mode": {
    "name": "ipython",
    "version": 3
   },
   "file_extension": ".py",
   "mimetype": "text/x-python",
   "name": "python",
   "nbconvert_exporter": "python",
   "pygments_lexer": "ipython3",
   "version": "3.8.19"
  }
 },
 "nbformat": 4,
 "nbformat_minor": 5
}
