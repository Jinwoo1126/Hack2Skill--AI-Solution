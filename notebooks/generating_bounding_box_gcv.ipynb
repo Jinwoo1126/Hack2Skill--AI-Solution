{
 "cells": [
  {
   "cell_type": "code",
   "execution_count": 1,
   "id": "24fb8c37-d28c-4363-8440-110489e32fde",
   "metadata": {},
   "outputs": [],
   "source": [
    "from langchain_google_genai import ChatGoogleGenerativeAI\n",
    "from langchain_core.messages import HumanMessage\n",
    "from langchain_core.prompts.image import ImagePromptTemplate\n",
    "from langchain.prompts import PromptTemplate\n",
    "from langchain_core.prompt_values import ImageURL\n",
    "from langchain_core.pydantic_v1 import BaseModel, Field, validator\n",
    "from langchain.output_parsers import PydanticOutputParser\n",
    "from google.cloud import vision\n",
    "import requests\n",
    "from io import BytesIO\n",
    "\n",
    "GOOGLE_GEMINI_API_KEY = \"\"\n",
    "GOOGLE_VISION_API_KEY = \"\"\n",
    "PID = \"ai-solution-genai-hack2skill\"\n",
    "\n",
    "urls = ['https://img.maisonkorea.com/2020/03/msk_5e65a1179ab47.jpg',\n",
    "       'https://upload.wikimedia.org/wikipedia/commons/thumb/c/cf/Wohnzimmer_2007.jpg/1200px-Wohnzimmer_2007.jpg',\n",
    "       'https://static.hyundailivart.co.kr/upload_mall/board/ME00000044/B200042482/tplt/0000215270_20220224105746834.jpg']"
   ]
  },
  {
   "cell_type": "code",
   "execution_count": 2,
   "id": "612e31e9-c1fc-421c-a6c5-b4b797bc6444",
   "metadata": {},
   "outputs": [
    {
     "ename": "NameError",
     "evalue": "name 'GOOGLE_API_KEY' is not defined",
     "output_type": "error",
     "traceback": [
      "\u001b[1;31m---------------------------------------------------------------------------\u001b[0m",
      "\u001b[1;31mNameError\u001b[0m                                 Traceback (most recent call last)",
      "Cell \u001b[1;32mIn[2], line 5\u001b[0m\n\u001b[0;32m      1\u001b[0m \u001b[38;5;28;01mclass\u001b[39;00m \u001b[38;5;21;01mTagsForList\u001b[39;00m(BaseModel):\n\u001b[0;32m      3\u001b[0m     furniture_list: \u001b[38;5;28mlist\u001b[39m[\u001b[38;5;28mstr\u001b[39m] \u001b[38;5;241m=\u001b[39m Field(\u001b[38;5;241m.\u001b[39m\u001b[38;5;241m.\u001b[39m\u001b[38;5;241m.\u001b[39m, description \u001b[38;5;241m=\u001b[39m \u001b[38;5;124m\"\u001b[39m\u001b[38;5;124mList of furnitures\u001b[39m\u001b[38;5;124m\"\u001b[39m);\n\u001b[1;32m----> 5\u001b[0m \u001b[38;5;28;43;01mclass\u001b[39;49;00m\u001b[43m \u001b[49m\u001b[38;5;21;43;01mLocalizer\u001b[39;49;00m\u001b[43m:\u001b[49m\n\u001b[0;32m      7\u001b[0m \u001b[43m    \u001b[49m\u001b[38;5;28;43;01mdef\u001b[39;49;00m\u001b[43m \u001b[49m\u001b[38;5;21;43m__init__\u001b[39;49m\u001b[43m(\u001b[49m\u001b[38;5;28;43mself\u001b[39;49m\u001b[43m)\u001b[49m\u001b[43m:\u001b[49m\n\u001b[0;32m      9\u001b[0m \u001b[43m        \u001b[49m\u001b[38;5;28;43mself\u001b[39;49m\u001b[38;5;241;43m.\u001b[39;49m\u001b[43mGOOGLE_GEMINI_API_KEY\u001b[49m\u001b[43m \u001b[49m\u001b[38;5;241;43m=\u001b[39;49m\u001b[43m \u001b[49m\u001b[43mGOOGLE_GEMINI_API_KEY\u001b[49m\n",
      "Cell \u001b[1;32mIn[2], line 23\u001b[0m, in \u001b[0;36mLocalizer\u001b[1;34m()\u001b[0m\n\u001b[0;32m     14\u001b[0m     \u001b[38;5;28mself\u001b[39m\u001b[38;5;241m.\u001b[39mparser \u001b[38;5;241m=\u001b[39m PydanticOutputParser(pydantic_object \u001b[38;5;241m=\u001b[39m TagsForList)\n\u001b[0;32m     15\u001b[0m     \u001b[38;5;28mself\u001b[39m\u001b[38;5;241m.\u001b[39mprompt \u001b[38;5;241m=\u001b[39m PromptTemplate(\n\u001b[0;32m     16\u001b[0m         template \u001b[38;5;241m=\u001b[39m \u001b[38;5;124m\"\"\"\u001b[39m\u001b[38;5;124mAnswer the user query. \u001b[39m\u001b[38;5;130;01m\\n\u001b[39;00m\u001b[38;5;124m \u001b[39m\u001b[38;5;132;01m{format_instructions}\u001b[39;00m\u001b[38;5;130;01m\\n\u001b[39;00m\u001b[38;5;132;01m{query}\u001b[39;00m\u001b[38;5;130;01m\\n\u001b[39;00m\n\u001b[0;32m     17\u001b[0m \u001b[38;5;124m        You select only the items from the list that can be categorized as furniture or appliances.\u001b[39m\n\u001b[1;32m   (...)\u001b[0m\n\u001b[0;32m     20\u001b[0m         partial_variables \u001b[38;5;241m=\u001b[39m {\u001b[38;5;124m\"\u001b[39m\u001b[38;5;124mformat_instructions\u001b[39m\u001b[38;5;124m\"\u001b[39m : \u001b[38;5;28mself\u001b[39m\u001b[38;5;241m.\u001b[39mparser\u001b[38;5;241m.\u001b[39mget_format_instructions()}\n\u001b[0;32m     21\u001b[0m     )\n\u001b[1;32m---> 23\u001b[0m \u001b[38;5;28;01mdef\u001b[39;00m \u001b[38;5;21mlocalize_objects\u001b[39m(\u001b[38;5;28mself\u001b[39m, url, api_key \u001b[38;5;241m=\u001b[39m \u001b[43mGOOGLE_API_KEY\u001b[49m, pid \u001b[38;5;241m=\u001b[39m PID):\n\u001b[0;32m     25\u001b[0m     client \u001b[38;5;241m=\u001b[39m vision\u001b[38;5;241m.\u001b[39mImageAnnotatorClient(\\\n\u001b[0;32m     26\u001b[0m         client_options \u001b[38;5;241m=\u001b[39m {\u001b[38;5;124m\"\u001b[39m\u001b[38;5;124mapi_key\u001b[39m\u001b[38;5;124m\"\u001b[39m: \u001b[38;5;28mself\u001b[39m\u001b[38;5;241m.\u001b[39mGOOGLE_VISION_API_KEY, \u001b[38;5;124m\"\u001b[39m\u001b[38;5;124mquota_project_id\u001b[39m\u001b[38;5;124m\"\u001b[39m: pid})\n\u001b[0;32m     28\u001b[0m     res \u001b[38;5;241m=\u001b[39m requests\u001b[38;5;241m.\u001b[39mget(url)\n",
      "\u001b[1;31mNameError\u001b[0m: name 'GOOGLE_API_KEY' is not defined"
     ]
    }
   ],
   "source": [
    "class TagsForList(BaseModel):\n",
    "    \n",
    "    furniture_list: list[str] = Field(..., description = \"List of furnitures\");\n",
    "\n",
    "class Localizer:\n",
    "\n",
    "    def __init__(self):\n",
    "\n",
    "        self.GOOGLE_GEMINI_API_KEY = GOOGLE_GEMINI_API_KEY\n",
    "        self.GOOGLE_VISION_API_KEY = GOOGLE_VISION_API_KEY\n",
    "        self.llm = ChatGoogleGenerativeAI(model = 'gemini-pro', google_api_key = self.GOOGLE_GEMINI_API_KEY,\n",
    "                                         temperature = 0)\n",
    "\n",
    "        self.parser = PydanticOutputParser(pydantic_object = TagsForList)\n",
    "        self.prompt = PromptTemplate(\n",
    "            template = \"\"\"Answer the user query. \\n {format_instructions}\\n{query}\\n\n",
    "            You select only the items from the list that can be categorized as furniture or appliances.\n",
    "            \"\"\",\n",
    "            input_variables = [\"query\"],\n",
    "            partial_variables = {\"format_instructions\" : self.parser.get_format_instructions()}\n",
    "        )\n",
    "\n",
    "    def localize_objects(self, url, api_key = GOOGLE_API_KEY, pid = PID):\n",
    "\n",
    "        client = vision.ImageAnnotatorClient(\\\n",
    "            client_options = {\"api_key\": self.GOOGLE_VISION_API_KEY, \"quota_project_id\": pid})\n",
    "    \n",
    "        res = requests.get(url)\n",
    "        img = vision.Image(content = res.content)\n",
    "        \n",
    "        objects = client.object_localization(image = img).localized_object_annotations\n",
    "    \n",
    "        obj_list = []\n",
    "        upper_left_axis_list = []\n",
    "        bottom_right_axis_list = []\n",
    "        \n",
    "        for object_ in objects:\n",
    "            \n",
    "            obj_list.append(object_.name)\n",
    "    \n",
    "            for i, vertex in enumerate(object_.bounding_poly.normalized_vertices):\n",
    "                \n",
    "                if i == 0:\n",
    "                    upper_left_axis_list.append((vertex.x, vertex.y))\n",
    "    \n",
    "                if i == 2:\n",
    "                    bottom_right_axis_list.append((vertex.x, vertex.y))\n",
    "    \n",
    "        return dict(zip(obj_list, upper_left_axis_list)), dict(zip(obj_list, bottom_right_axis_list))\n",
    "    \n",
    "    def query(self, url):\n",
    "\n",
    "        upper_left_axis, bottom_right_axis = self.localize_objects(url = url)\n",
    "\n",
    "        query_sentence = str(list(upper_left_axis.keys()))\n",
    "\n",
    "        chain = self.prompt | self.llm | self.parser\n",
    "        llm_output = chain.invoke({\"query\" : query_sentence})\n",
    "        furnitures = llm_output.furniture_list\n",
    "\n",
    "        upper_left_axis = {key: upper_left_axis[key] for key in furnitures}\n",
    "        bottom_right_axis = {key: bottom_right_axis[key] for key in furnitures}\n",
    "\n",
    "        return upper_left_axis\n"
   ]
  },
  {
   "cell_type": "code",
   "execution_count": null,
   "id": "7bcacb65-fd20-41a1-baff-54ca4a314dad",
   "metadata": {},
   "outputs": [],
   "source": [
    "output_bbgs = []\n",
    "loc = Localizer()\n",
    "for url in urls:\n",
    "    output_bbg = loc.query(url)\n",
    "    output_bbgs.append(output_bbg)"
   ]
  },
  {
   "cell_type": "code",
   "execution_count": null,
   "id": "cc9e75d2-eec8-4c65-9ff7-1899318087de",
   "metadata": {},
   "outputs": [],
   "source": [
    "output_bbgs[2]"
   ]
  },
  {
   "cell_type": "code",
   "execution_count": null,
   "id": "ffc071b3-5f3e-42eb-af90-b843a4892117",
   "metadata": {},
   "outputs": [],
   "source": [
    "from PIL import Image, ImageDraw, ImageFont\n",
    "import requests\n",
    "from io import BytesIO\n",
    "\n",
    "def draw_rectangles(url:str, upper_left_dict:dict, bottom_right_dict:dict):\n",
    "    \n",
    "    res = requests.get(url)\n",
    "    img = Image.open(BytesIO(res.content))\n",
    "    draw = ImageDraw.Draw(img)\n",
    "\n",
    "    width = img.width; height = img.height\n",
    "    font = ImageFont.load_default()    \n",
    "\n",
    "    for item in upper_left_dict.keys():\n",
    "\n",
    "        outline_color = 'red'; text_color = 'blue'\n",
    "        \n",
    "        upper_left_axis = (int(upper_left_dict[item][0] * width), int(upper_left_dict[item][1] * height))\n",
    "        bottom_right_axis = (int(bottom_right_dict[item][0] * width), int(bottom_right_dict[item][1] * height))\n",
    "        draw.rectangle([upper_left_axis, bottom_right_axis], outline = outline_color, width = 2)\n",
    "        draw.text(upper_left_axis, item, fill = text_color, font = font)\n",
    "\n",
    "    return img"
   ]
  },
  {
   "cell_type": "code",
   "execution_count": null,
   "id": "ddd56ac5-189d-4747-a880-b85662816863",
   "metadata": {},
   "outputs": [],
   "source": [
    "for url, output_bbg in zip(urls, output_bbgs):\n",
    "    img = draw_rectangles(url = url,\n",
    "                   upper_left_dict = output_bbg[0], bottom_right_dict = output_bbg[1])\n",
    "    img.save('vai_'+url.split('/')[-1])"
   ]
  },
  {
   "cell_type": "code",
   "execution_count": null,
   "id": "55b6a150-a933-49e8-8bfd-73fcda8db963",
   "metadata": {},
   "outputs": [],
   "source": []
  }
 ],
 "metadata": {
  "kernelspec": {
   "display_name": "Python 3 (ipykernel)",
   "language": "python",
   "name": "python3"
  },
  "language_info": {
   "codemirror_mode": {
    "name": "ipython",
    "version": 3
   },
   "file_extension": ".py",
   "mimetype": "text/x-python",
   "name": "python",
   "nbconvert_exporter": "python",
   "pygments_lexer": "ipython3",
   "version": "3.12.3"
  }
 },
 "nbformat": 4,
 "nbformat_minor": 5
}
